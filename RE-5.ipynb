{
 "cells": [
  {
   "cell_type": "markdown",
   "metadata": {},
   "source": [
    "# Write a Python program that matches a word at the end of string, with optional punctuation.\n"
   ]
  },
  {
   "cell_type": "code",
   "execution_count": 1,
   "metadata": {},
   "outputs": [
    {
     "name": "stdout",
     "output_type": "stream",
     "text": [
      "Enter the word:funny girl\n",
      "match found\n"
     ]
    }
   ],
   "source": [
    "import re\n",
    "\n",
    "word = input(\"Enter the word:\")\n",
    "\n",
    "match = re.search(\"girl$\",word)\n",
    "\n",
    "if match!=None:\n",
    "    print(\"match found\")\n",
    "else:\n",
    "    print(\"match not found\")\n",
    "\n"
   ]
  }
 ],
 "metadata": {
  "kernelspec": {
   "display_name": "Python 3",
   "language": "python",
   "name": "python3"
  },
  "language_info": {
   "codemirror_mode": {
    "name": "ipython",
    "version": 3
   },
   "file_extension": ".py",
   "mimetype": "text/x-python",
   "name": "python",
   "nbconvert_exporter": "python",
   "pygments_lexer": "ipython3",
   "version": "3.7.6"
  }
 },
 "nbformat": 4,
 "nbformat_minor": 4
}
