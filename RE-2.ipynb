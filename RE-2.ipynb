{
 "cells": [
  {
   "cell_type": "markdown",
   "metadata": {},
   "source": [
    "# Write a Python Program to find the domain of the Email Using RE\n"
   ]
  },
  {
   "cell_type": "code",
   "execution_count": 3,
   "metadata": {},
   "outputs": [
    {
     "name": "stdout",
     "output_type": "stream",
     "text": [
      "Enter Your Mail Id : brubru@gmail.com\n",
      "It is a Gmail Id\n"
     ]
    }
   ],
   "source": [
    "import re\n",
    "\n",
    "Email_id = input(\"Enter Your Mail Id : \")\n",
    "\n",
    "matcher = re.finditer(\"@\",Email_id)\n",
    "\n",
    "for i in matcher:\n",
    "     y=i.start()\n",
    "        \n",
    "if Email_id[y+1:]==\"hotmail.com\":\n",
    "         print(\"It is a hotmail Id\")\n",
    "    \n",
    "elif Email_id[y+1:]==\"yahoo.com\":\n",
    "         print(\"It is a Yahoo Id\")\n",
    "            \n",
    "elif Email_id[y+1:]==\"outlook.com\":\n",
    "         print(\"It is a outlook Id\")\n",
    "            \n",
    "elif Email_id[y+1:]==\"gmail.com\":\n",
    "         print(\"It is a Gmail Id\")\n",
    "            \n",
    "else:\n",
    "         print(\"Enter Valid mail Id\")"
   ]
  },
  {
   "cell_type": "code",
   "execution_count": null,
   "metadata": {},
   "outputs": [],
   "source": []
  }
 ],
 "metadata": {
  "kernelspec": {
   "display_name": "Python 3",
   "language": "python",
   "name": "python3"
  },
  "language_info": {
   "codemirror_mode": {
    "name": "ipython",
    "version": 3
   },
   "file_extension": ".py",
   "mimetype": "text/x-python",
   "name": "python",
   "nbconvert_exporter": "python",
   "pygments_lexer": "ipython3",
   "version": "3.7.6"
  }
 },
 "nbformat": 4,
 "nbformat_minor": 4
}
